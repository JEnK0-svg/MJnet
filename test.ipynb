{
 "cells": [
  {
   "cell_type": "code",
   "execution_count": null,
   "metadata": {
    "id": "Mmkov_aCxJFl"
   },
   "outputs": [],
   "source": [
    "from utils import *\n",
    "from MJnet import * "
   ]
  },
  {
   "cell_type": "code",
   "execution_count": null,
   "metadata": {
    "id": "RMF-phHdxJFo"
   },
   "outputs": [],
   "source": [
    "for i in range(10):\n",
    "    print('第{}个测试集测试结果：'.format(i + 1))\n",
    "    #Change the file_path to your own path\n",
    "    test_file_path = 'file_path\\data\\miRAW_Test{}.txt'.format(i)\n",
    "    perform_test(test_file_path, stepsize = 5, model_type='best_model.pth')"
   ]
  }
 ],
 "metadata": {
  "accelerator": "GPU",
  "colab": {
   "gpuType": "T4",
   "provenance": []
  },
  "kernelspec": {
   "display_name": "MJnet",
   "language": "python",
   "name": "python3"
  },
  "language_info": {
   "codemirror_mode": {
    "name": "ipython",
    "version": 3
   },
   "file_extension": ".py",
   "mimetype": "text/x-python",
   "name": "python",
   "nbconvert_exporter": "python",
   "pygments_lexer": "ipython3",
   "version": "3.9.20"
  }
 },
 "nbformat": 4,
 "nbformat_minor": 0
}
